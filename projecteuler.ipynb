{
 "cells": [
  {
   "cell_type": "markdown",
   "metadata": {
    "collapsed": false
   },
   "source": [
    "Solve https://projecteuler.net/problem=2 \n",
    "\n",
    "Find sum of all Even Fibonacci numbers whose do not exceed four million.\n",
    "\n",
    "If we will see on Fibonacci numbers , we can see every third number in sequence is even.\n",
    "\n",
    "So go and solve it!"
   ]
  },
  {
   "cell_type": "code",
   "execution_count": 3,
   "metadata": {
    "collapsed": false
   },
   "outputs": [
    {
     "name": "stdout",
     "output_type": "stream",
     "text": [
      "4613732\n"
     ]
    }
   ],
   "source": [
    "def mem_fib(n, _cache={}):\n",
    "    '''efficiently memoized recursive function, returns a Fibonacci number'''\n",
    "    if n in _cache:\n",
    "        return _cache[n]\n",
    "    elif n > 1:\n",
    "        return _cache.setdefault(n, mem_fib(n-1) + mem_fib(n-2))\n",
    "    return n\n",
    "i=0\n",
    "sum_ev=0\n",
    "while True:\n",
    "    i+=3\n",
    "    ex=mem_fib(i)\n",
    "    if ex>4000000:break\n",
    "    else: sum_ev+=mem_fib(i)\n",
    "a=sum_ev\n",
    "print(a)"
   ]
  },
  {
   "cell_type": "markdown",
   "metadata": {},
   "source": [
    "Find prime number which is palindrom in base-2 and base-10 (leetCode)"
   ]
  },
  {
   "cell_type": "code",
   "execution_count": 4,
   "metadata": {
    "collapsed": true
   },
   "outputs": [],
   "source": [
    "def palindroms(num):\n",
    "    return str(num) == str(num)[::-1]"
   ]
  },
  {
   "cell_type": "code",
   "execution_count": 5,
   "metadata": {
    "collapsed": true
   },
   "outputs": [],
   "source": [
    "def is_prime(n):\n",
    "  if n == 2 or n == 3: return True\n",
    "  if n < 2 or n%2 == 0: return False\n",
    "  if n < 9: return True\n",
    "  if n%3 == 0: return False\n",
    "  r = int(n**0.5)\n",
    "  f = 5\n",
    "  while f <= r:\n",
    "    print '\\t',f\n",
    "    if n%f == 0: return False\n",
    "    if n%(f+2) == 0: return False\n",
    "    f +=6\n",
    "  return True"
   ]
  },
  {
   "cell_type": "code",
   "execution_count": 6,
   "metadata": {
    "collapsed": false
   },
   "outputs": [
    {
     "name": "stdout",
     "output_type": "stream",
     "text": [
      "\t5\n",
      "\t11\n",
      "\t17\n",
      "313\n"
     ]
    }
   ],
   "source": [
    "for i in range(1500):\n",
    "    if palindroms(bin(i)[2:])==True and i > 9 and palindroms(i)==True and is_prime(i)==True:  \n",
    "        a=i\n",
    "        print(a)"
   ]
  }
 ],
 "metadata": {
  "anaconda-cloud": {},
  "kernelspec": {
   "display_name": "Python [conda root]",
   "language": "python",
   "name": "conda-root-py"
  },
  "language_info": {
   "codemirror_mode": {
    "name": "ipython",
    "version": 2
   },
   "file_extension": ".py",
   "mimetype": "text/x-python",
   "name": "python",
   "nbconvert_exporter": "python",
   "pygments_lexer": "ipython2",
   "version": "2.7.12"
  }
 },
 "nbformat": 4,
 "nbformat_minor": 1
}
